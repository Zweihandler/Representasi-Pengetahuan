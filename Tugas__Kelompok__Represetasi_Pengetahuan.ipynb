{
  "cells": [
    {
      "cell_type": "code",
      "execution_count": null,
      "metadata": {
        "scrolled": true,
        "colab": {
          "base_uri": "https://localhost:8080/"
        },
        "id": "NXIQZZVdAlaf",
        "outputId": "856936fd-99e2-46e7-caf4-c669033c97f8"
      },
      "outputs": [
        {
          "output_type": "stream",
          "name": "stdout",
          "text": [
            "Looking in indexes: https://pypi.org/simple, https://us-python.pkg.dev/colab-wheels/public/simple/\n",
            "Collecting pytholog\n",
            "  Downloading pytholog-2.4.1-py3-none-any.whl (16 kB)\n",
            "Requirement already satisfied: more-itertools in /usr/local/lib/python3.7/dist-packages (from pytholog) (8.14.0)\n",
            "Installing collected packages: pytholog\n",
            "Successfully installed pytholog-2.4.1\n"
          ]
        }
      ],
      "source": [
        "pip install pytholog"
      ]
    },
    {
      "cell_type": "markdown",
      "source": [],
      "metadata": {
        "id": "wcZvfF29FGXO"
      }
    },
    {
      "cell_type": "code",
      "execution_count": null,
      "metadata": {
        "id": "L9ugvzcxAlak"
      },
      "outputs": [],
      "source": [
        "import pytholog as pl"
      ]
    },
    {
      "cell_type": "markdown",
      "metadata": {
        "id": "fFpInKCiAlal"
      },
      "source": [
        "# ![image.png](attachment:image.png)"
      ]
    },
    {
      "cell_type": "code",
      "execution_count": null,
      "metadata": {
        "id": "I8Y8O3xeAlau"
      },
      "outputs": [],
      "source": [
        "new_kb = pl.KnowledgeBase(\"silsilah_keluarga\")\n",
        "new_kb([\"female(pam)\",\n",
        "        \"female(liz)\",\n",
        "        \"female(pat)\",\n",
        "        \"female(ann)\",\n",
        "        \"male(tom)\",\n",
        "        \"male(bob)\",\n",
        "        \"male(jim)\",\n",
        "        \n",
        "        \"parent(pam, bob)\",\n",
        "        \"parent(tom, bob)\",\n",
        "        \"parent(tom,liz)\",\n",
        "        \"parent(bob, ann)\",\n",
        "        \"parent(bob, pat)\",\n",
        "        \"parent(pat, jim)\",\n",
        "        \n",
        "        \"mother(X,Y):-parent(X,Y),female(X)\",\n",
        "        \"kakek(X,Z):-parent(X,Y),parent(Y,Z),male(X)\"])"
      ]
    },
    {
      "cell_type": "code",
      "execution_count": null,
      "metadata": {
        "colab": {
          "base_uri": "https://localhost:8080/"
        },
        "id": "DwFSagwiAlax",
        "outputId": "f3cb833f-d5bf-4a2d-84d6-9941a9fae30a"
      },
      "outputs": [
        {
          "output_type": "execute_result",
          "data": {
            "text/plain": [
              "[{'X': 'pam'}]"
            ]
          },
          "metadata": {},
          "execution_count": 5
        }
      ],
      "source": [
        "new_kb.query(pl.Expr(\"mother(X, bob)\"))"
      ]
    },
    {
      "cell_type": "code",
      "execution_count": null,
      "metadata": {
        "colab": {
          "base_uri": "https://localhost:8080/"
        },
        "id": "X4clDFQiAlaz",
        "outputId": "9041b533-e324-4cc4-a3ff-00e2e1733fcf"
      },
      "outputs": [
        {
          "output_type": "execute_result",
          "data": {
            "text/plain": [
              "[{'X': 'tom'}]"
            ]
          },
          "metadata": {},
          "execution_count": 6
        }
      ],
      "source": [
        "new_kb.query(pl.Expr(\"kakek(X, ann)\"))"
      ]
    },
    {
      "cell_type": "code",
      "execution_count": null,
      "metadata": {
        "colab": {
          "base_uri": "https://localhost:8080/"
        },
        "id": "Qj6hdNnoAla0",
        "outputId": "b5ea7054-64df-4375-b42b-06000726827b"
      },
      "outputs": [
        {
          "output_type": "stream",
          "name": "stdout",
          "text": [
            "[{'X': 'tom'}]\n"
          ]
        }
      ],
      "source": [
        "from time import time\n",
        "print(new_kb.query(pl.Expr(\"kakek(X, ann)\")))"
      ]
    },
    {
      "cell_type": "markdown",
      "source": [
        "logika preposisi :\n",
        "\n",
        "alan adalah bapaknya budi\n",
        "\n",
        "logika predikat ⁉\n",
        "\n",
        "\n",
        "bapak(x, budi)\n",
        "x = alan"
      ],
      "metadata": {
        "id": "GziZj_t23DME"
      }
    },
    {
      "cell_type": "markdown",
      "metadata": {
        "id": "j_g7X5DQAla1"
      },
      "source": [
        "![image.png](data:image/png;base64,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)"
      ]
    },
    {
      "cell_type": "code",
      "execution_count": null,
      "metadata": {
        "id": "1DK94yF3Ala2"
      },
      "outputs": [],
      "source": [
        "bs = pl.KnowledgeBase(\"Silsilah Keluarga\")\n",
        "\n",
        "bs([\n",
        "    \"laki(alan)\",\n",
        "    \"laki(jhon)\",\n",
        "    \"laki(mike)\",\n",
        "    \"laki(doni)\",\n",
        "    \"laki(anton)\",\n",
        "    \"laki(andre)\",\n",
        "\n",
        "    \"perempuan(diana)\",\n",
        "    \"perempuan(dara)\",\n",
        "    \"perempuan(silvi)\",\n",
        "    \"perempuan(melly)\",\n",
        "    \"perempuan(rossa)\",\n",
        "    \n",
        "    \"orangtua(alan,dara)\",\n",
        "    \"orangtua(alan,jhon)\",\n",
        "    \"orangtua(diana,dara)\",\n",
        "    \"orangtua(diana,jhon)\",\n",
        "    \"orangtua(mike,melly)\",\n",
        "    \"orangtua(mike,doni)\",\n",
        "    \"orangtua(mike,anton)\",\n",
        "    \"orangtua(dara,melly)\",\n",
        "    \"orangtua(dara,doni)\",\n",
        "    \"orangtua(dara,anton)\",\n",
        "    \"orangtua(jhon,rossa)\",\n",
        "    \"orangtua(jhon,andre)\",\n",
        "    \"orangtua(silvi,rossa)\",\n",
        "    \"orangtua(silvi,andre)\",\n",
        "\n",
        "\n",
        "    \"paman(mike,rossa)\",\n",
        "    \"paman(mike,andre)\",\n",
        "    \"paman(jhon,melly)\",\n",
        "    \"paman(jhon,anton)\",\n",
        "    \"paman(jhon,doni)\",\n",
        "    \"bibi(dara,rossa)\",\n",
        "    \"bibi(dara,andre)\",\n",
        "    \"bibi(silvi,melly)\",\n",
        "    \"bibi(silvi,anton)\",\n",
        "    \"bibi(silvi,doni)\",\n",
        "\n",
        "    \"iparlaki(jhon,mike)\",\n",
        "    \"iparlaki(mike,jhon)\",\n",
        "    \"iparlaki(mike,silvi)\",\n",
        "    \"iparperempuan(dara,silvi)\",\n",
        "    \"iparperempuan(silvi,dara)\",\n",
        "    \"iparperempuan(silvi,mike)\",\n",
        "\n",
        "    \"orangtua(X,Y):-anak(Y,X)\",\n",
        "    \"ayah(X,Y):-orangtua(X,Y), laki(X)\",\n",
        "    \"ibu(A,B):-orangtua(X,Y), perempuan(X)\",\n",
        "    \"saudaraperempuan(X,Y):-orangtua(Z,X),orangtua(Z,Y), perempuan(X)\",\n",
        "    \"saudaralaki(X,Y):-orangtua(Z,X),orangtua(Z,Y), laki(X)\",\n",
        "    \"kakekdannenek(X,Y):-orangtua(X,Z),orangtua(Z,Y)\",\n",
        "    \"kakek(X,Z):-orangtua(X,Y),orangtua(Y,Z),laki(X)\",\n",
        "    \"nenek(X,Z):-orangtua(X,Y),orangtua(Y,Z),perempuan(X)\",\n",
        "    \"bibi(X,Z):-saudaraperempuan(X,Y),orangtua(Y,Z), bibi(X)/==orangtua(X) \",\n",
        "    \"paman(X,Z):-saudaraperempuan(X,Y),orangtua(Y,Z), paman(X)/==orangtua(X) \",\n",
        "    \"iparperempuan(X,Z):-saudaraperempuan(X,Y), saudaraperempuan(X)/==orangtua(X) \",\n",
        "     \"iparlaki(X,Z):-saudaraperempuan(X,Y), saudaralaki(X)/==orangtua(X) \",\n",
        "    ])"
      ]
    },
    {
      "cell_type": "code",
      "execution_count": null,
      "metadata": {
        "colab": {
          "base_uri": "https://localhost:8080/"
        },
        "id": "1EGJk1fCAla4",
        "outputId": "b0bff4b1-996e-4d10-d2dc-d25a606b6893"
      },
      "outputs": [
        {
          "output_type": "execute_result",
          "data": {
            "text/plain": [
              "['Yes']"
            ]
          },
          "metadata": {},
          "execution_count": 5
        }
      ],
      "source": [
        "bs.query(pl.Expr(\"laki(andre)\"))"
      ]
    },
    {
      "cell_type": "code",
      "source": [
        "bs.query(pl.Expr(\"orangtua(X,dara)\"))"
      ],
      "metadata": {
        "id": "YjPP-WXdc1Do",
        "outputId": "3ffbb29e-85cf-4b3c-cf0e-6662b4ac42bd",
        "colab": {
          "base_uri": "https://localhost:8080/"
        }
      },
      "execution_count": null,
      "outputs": [
        {
          "output_type": "execute_result",
          "data": {
            "text/plain": [
              "[{'X': 'alan'}, {'X': 'diana'}]"
            ]
          },
          "metadata": {},
          "execution_count": 4
        }
      ]
    },
    {
      "cell_type": "code",
      "source": [
        "bs.query(pl.Expr(\"kakekdannenek(X,doni)\"))"
      ],
      "metadata": {
        "id": "S8tKd2OaddDk",
        "outputId": "ad5409d6-6f43-4612-e5a0-263e64b3bf33",
        "colab": {
          "base_uri": "https://localhost:8080/"
        }
      },
      "execution_count": null,
      "outputs": [
        {
          "output_type": "execute_result",
          "data": {
            "text/plain": [
              "[{'X': 'alan'}, {'X': 'diana'}]"
            ]
          },
          "metadata": {},
          "execution_count": 6
        }
      ]
    },
    {
      "cell_type": "code",
      "source": [
        "bs.query(pl.Expr(\"paman(X,Y)\"))"
      ],
      "metadata": {
        "colab": {
          "base_uri": "https://localhost:8080/"
        },
        "id": "LaZ62pSi3_9J",
        "outputId": "fc7fc424-1516-45db-ccd4-4cbc4dbd9a68"
      },
      "execution_count": null,
      "outputs": [
        {
          "output_type": "execute_result",
          "data": {
            "text/plain": [
              "[{'X': 'jhon', 'Y': 'melly'},\n",
              " {'X': 'jhon', 'Y': 'anton'},\n",
              " {'X': 'jhon', 'Y': 'doni'},\n",
              " {'X': 'mike', 'Y': 'rossa'},\n",
              " {'X': 'mike', 'Y': 'andre'}]"
            ]
          },
          "metadata": {},
          "execution_count": 7
        }
      ]
    },
    {
      "cell_type": "code",
      "source": [
        "bs.query(pl.Expr(\"iparperempuan(X,Y)\"))"
      ],
      "metadata": {
        "colab": {
          "base_uri": "https://localhost:8080/"
        },
        "id": "oEZQaXrx4Lin",
        "outputId": "85fc18fd-2666-4219-dc0e-441dc60d47c2"
      },
      "execution_count": null,
      "outputs": [
        {
          "output_type": "execute_result",
          "data": {
            "text/plain": [
              "[{'X': 'dara', 'Y': 'silvi'},\n",
              " {'X': 'silvi', 'Y': 'dara'},\n",
              " {'X': 'silvi', 'Y': 'mike'}]"
            ]
          },
          "metadata": {},
          "execution_count": 8
        }
      ]
    },
    {
      "cell_type": "code",
      "source": [
        "bs.query(pl.Expr(\"iparlaki(X,mike)\"))"
      ],
      "metadata": {
        "colab": {
          "base_uri": "https://localhost:8080/"
        },
        "id": "KxWDeWBq96QV",
        "outputId": "e71c51cb-abb1-48a2-839e-9914e1e0560a"
      },
      "execution_count": null,
      "outputs": [
        {
          "output_type": "execute_result",
          "data": {
            "text/plain": [
              "[{'X': 'jhon'}]"
            ]
          },
          "metadata": {},
          "execution_count": 111
        }
      ]
    }
  ],
  "metadata": {
    "kernelspec": {
      "display_name": "Python 3",
      "language": "python",
      "name": "python3"
    },
    "language_info": {
      "codemirror_mode": {
        "name": "ipython",
        "version": 3
      },
      "file_extension": ".py",
      "mimetype": "text/x-python",
      "name": "python",
      "nbconvert_exporter": "python",
      "pygments_lexer": "ipython3",
      "version": "3.7.2"
    },
    "colab": {
      "provenance": []
    }
  },
  "nbformat": 4,
  "nbformat_minor": 0
}